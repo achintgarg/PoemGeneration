{
 "cells": [
  {
   "cell_type": "code",
   "execution_count": 1,
   "metadata": {},
   "outputs": [
    {
     "name": "stderr",
     "output_type": "stream",
     "text": [
      "C:\\Users\\Achint_GARG\\Anaconda3\\lib\\site-packages\\h5py\\__init__.py:36: FutureWarning: Conversion of the second argument of issubdtype from `float` to `np.floating` is deprecated. In future, it will be treated as `np.float64 == np.dtype(float).type`.\n",
      "  from ._conv import register_converters as _register_converters\n",
      "Using TensorFlow backend.\n"
     ]
    }
   ],
   "source": [
    "import numpy as np\n",
    "import pandas as pd\n",
    "from keras.models import Sequential\n",
    "from keras.utils import np_utils"
   ]
  },
  {
   "cell_type": "code",
   "execution_count": 2,
   "metadata": {},
   "outputs": [],
   "source": [
    "text = open(\"./sonnets.txt\").read()\n",
    "text= text.lower()"
   ]
  },
  {
   "cell_type": "code",
   "execution_count": 3,
   "metadata": {},
   "outputs": [],
   "source": [
    "characters=sorted(list(set(text)))\n",
    "n_to_char = {n:char for n,char in enumerate(characters)}\n",
    "char_to_n = {char:n for n,char in enumerate(characters)}\n"
   ]
  },
  {
   "cell_type": "code",
   "execution_count": 4,
   "metadata": {},
   "outputs": [],
   "source": [
    "X = [] # input data\n",
    "Y = [] # label data\n",
    "\n",
    "length=len(text)\n",
    "seq_length= 100\n",
    "\n",
    "for i in range(length - seq_length):\n",
    "    cur_seq = text[i:i+seq_length]\n",
    "    cur_label = text[i+seq_length]\n",
    "    \n",
    "    X.append([char_to_n[char] for char in cur_seq]) # Mapping to integer\n",
    "    Y.append(char_to_n[cur_label])\n"
   ]
  },
  {
   "cell_type": "code",
   "execution_count": 5,
   "metadata": {},
   "outputs": [],
   "source": [
    "X_modified = np.reshape(X,(len(X),seq_length,1))\n",
    "X_modified = X_modified/float(len(characters))\n",
    "Y_modified = np_utils.to_categorical(Y)"
   ]
  },
  {
   "cell_type": "code",
   "execution_count": 6,
   "metadata": {},
   "outputs": [],
   "source": [
    "from keras.layers import Dense,Dropout,LSTM\n",
    "\n",
    "# Now its time to made Model\n"
   ]
  },
  {
   "cell_type": "code",
   "execution_count": 7,
   "metadata": {},
   "outputs": [],
   "source": [
    "model = Sequential()\n",
    "LSTM_layer1 = LSTM(400,input_shape=(X_modified.shape[1],X_modified.shape[2]),return_sequences=True)\n",
    "model.add(LSTM_layer1)\n",
    "\n",
    "Dropout_layer1 = Dropout(0.2)\n",
    "model.add(Dropout_layer1)\n",
    "\n",
    "LSTM_layer2 = LSTM(400,return_sequences=True)\n",
    "model.add(LSTM_layer2)\n",
    "\n",
    "Dropout_layer2 = Dropout(0.2)\n",
    "model.add(Dropout_layer2)\n",
    "\n",
    "model.add(LSTM(400))\n",
    "model.add(Dropout(0.2))\n",
    "\n",
    "Dense_layer1 = Dense(Y_modified.shape[1],activation='softmax')\n",
    "model.add(Dense_layer1)\n",
    "model.compile(loss='categorical_crossentropy',optimizer='adam')"
   ]
  },
  {
   "cell_type": "code",
   "execution_count": null,
   "metadata": {},
   "outputs": [],
   "source": [
    "# Now time to fit our input to model\n",
    "model.fit(X_modified,Y_modified,epochs=100,batch_size=100)\n",
    "models.save_weights('./weights.h5')"
   ]
  },
  {
   "cell_type": "code",
   "execution_count": 9,
   "metadata": {},
   "outputs": [],
   "source": [
    "model.load_weights('./weights.h5')"
   ]
  },
  {
   "cell_type": "code",
   "execution_count": 10,
   "metadata": {},
   "outputs": [],
   "source": [
    "string_mapped = X[0]\n",
    "full_string = [n_to_char[value] for value in string_mapped]\n",
    "\n",
    "for  i in range(399):\n",
    "    x = np.reshape(string_mapped,(1,len(string_mapped),1))\n",
    "    x = x/float(len(characters))\n",
    "    \n",
    "    pred_index = np.argmax(model.predict(x,verbose=0))\n",
    "    full_string.append(n_to_char[pred_index])\n",
    "    \n",
    "    string_mapped.append(pred_index)\n",
    "    string_mapped = string_mapped[1:len(string_mapped)]\n",
    "    "
   ]
  },
  {
   "cell_type": "code",
   "execution_count": 11,
   "metadata": {},
   "outputs": [
    {
     "name": "stdout",
     "output_type": "stream",
     "text": [
      "i\n",
      "\n",
      " from fairest creatures we desire increase,\n",
      " that thereby beauty's rose might never die,\n",
      " but as the reares of thy sweet self resemble,\n",
      " coonded and fortuelfss, where i aoower,\n",
      " and mothing have a fan oo coreldhen times,\n",
      " how would thy shadow ston'd to thy dall,\n",
      " when in thee vill of lany, my most santand,\n",
      " and you in gves bal seal i drerm my nade;\n",
      " that me your sweet seat thou dost line eyes,\n",
      " then beauty laki to make the world and feart\n",
      " that me your wouth with self is foom and fave.\n",
      "   sh\n"
     ]
    }
   ],
   "source": [
    "txt=\"\"\n",
    "for char in full_string:\n",
    "    txt = txt+char\n",
    "print(txt)"
   ]
  }
 ],
 "metadata": {
  "kernelspec": {
   "display_name": "Python 3",
   "language": "python",
   "name": "python3"
  },
  "language_info": {
   "codemirror_mode": {
    "name": "ipython",
    "version": 3
   },
   "file_extension": ".py",
   "mimetype": "text/x-python",
   "name": "python",
   "nbconvert_exporter": "python",
   "pygments_lexer": "ipython3",
   "version": "3.6.4"
  }
 },
 "nbformat": 4,
 "nbformat_minor": 2
}
